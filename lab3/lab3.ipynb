{
 "cells": [
  {
   "cell_type": "markdown",
   "metadata": {},
   "source": [
    "# Lab 3: Speech Recognition with Mel-Frequency Cepstral Coefficient and Convolutional Neural Network\n",
    "\n",
    "In this exercise you will learn an efficient method for processing audio recordings using Mel-frequency cepstral coefficient (MFCC) and a convolutional neural network (CNN)."
   ]
  },
  {
   "cell_type": "markdown",
   "metadata": {},
   "source": [
    "## MFCC feature extraction and network training\n",
    "\n",
    "![audio_workflow](audio_workflow.png)\n",
    "\n",
    "The idea is to segment one slice of a continuous input signal into (overlapping)\n",
    "segments, do some preprocessing, and stack the resulting processed segments over one-another to\n",
    "obtain a two-dimensional frame. On these frames the same principles are used as for ”real”\n",
    "images when it comes to machine learning."
   ]
  },
  {
   "cell_type": "markdown",
   "metadata": {},
   "source": [
    "# Download the \"Hey Snips\" dataset\n",
    "For this exercise we are going to use the ”Hey Snips” dataset from Couke et al. 2018 ”Efficient\n",
    "keyword spotting using dilated convolutions and gating”. The train dataset consists of utterances\n",
    "from 30 speakers, the test dataset consists of utterances from 10 speakers. The length of each\n",
    "utterance ranges between about 3 and 9 seconds, the data is labeled 1 if the sentence ”Hey Snips!”\n",
    "was uttered and 0 if not.\n",
    "\n",
    "Please visit the [Dataset Repository](https://github.com/sonos/keyword-spotting-research-datasets) and fill out the form to proceed with the dataset download. It is roughly 8.4GB."
   ]
  },
  {
   "cell_type": "code",
   "metadata": {
    "scrolled": true,
    "ExecuteTime": {
     "end_time": "2024-07-10T17:34:50.123241Z",
     "start_time": "2024-07-10T17:34:49.980481Z"
    }
   },
   "source": [
    "import json, random\n",
    "import numpy as np\n",
    "from scipy.io import wavfile\n",
    "import tensorflow as tf\n",
    "from tqdm import tqdm\n",
    "import os\n",
    "import zipfile, tempfile\n",
    "import simpleaudio as sa\n",
    "\n",
    "DataSetPath = \"hey_snips_research_6k_en_train_eval_clean_ter/\"\n",
    "\n",
    "with open(DataSetPath+\"train.json\") as jsonfile:\n",
    "    traindata = json.load(jsonfile)\n",
    "\n",
    "with open(DataSetPath+\"test.json\") as jsonfile:\n",
    "    testdata = json.load(jsonfile)"
   ],
   "outputs": [],
   "execution_count": 7
  },
  {
   "cell_type": "markdown",
   "metadata": {},
   "source": [
    "# Load data \n",
    "Here we load the data from the \"hey_snips\" dataset and extract the MFCC features from it. \n",
    "\n",
    "This is an example of how a data sample looks like.\n",
    "Information from the [Dataset Repository](https://github.com/sonos/keyword-spotting-research-datasets).\n",
    "\n",
    "```\n",
    "  {\n",
    "    \"id\": \"40084ea8-c576-4dba-a20b-fbda61f1de7d\"\n",
    "    \"is_hotword\": 1, \n",
    "    \"worker_id\": 12, \n",
    "    \"duration\": 1.86, \n",
    "    \"audio_file_path\": \"audio_files/40084ea8-c576-4dba-a20b-fbda61f1de7d.wav\", \n",
    "  }\n",
    "```\n",
    "- `id:` A unique identifier located in the audio_files subdirectory of the dataset\n",
    "- `is_hotword:` A 1 if the sample is a hotword and a 0 if not. This is what we are actually after in this classification model. Thus it acts as the label.\n",
    "- `worker_id:` The unique identifier of the contributor - note that worker ids are not consistent across datasets 1 and 2 as they are re-generated for each one of them.\n",
    "- `duration:` The duration of the audiofile in seconds.\n",
    "- `audio_file_path:` The filepath to the respective audio sample.\n",
    "\n",
    "But now we need to bring it into a format that we can actually learn in our machine learning model. So lets look at how that conversion looks like:\n",
    "\n",
    "\n",
    "\n",
    "1. We read the .wav file under the `audio_path`, this returns the sample rate (in samples/sec) and data from an LPCM WAV file. For more information see the [scipy documentation](https://docs.scipy.org/doc/scipy/reference/generated/scipy.io.wavfile.read.html).\n",
    "\n",
    "2. We zero-stuff the training and test samples so we have a constant slice length. As in the initial image.\n",
    "\n",
    "3. Now we segment the slices. For simplifying this exercise, we will choose the segment overlap to be 0. We might also want our segments to have a certain length - Powers of 2 will enable us to do faster FFTs.\n",
    "\n",
    "For time reasons we will also not load all training and test samples, but a smaller subset of them."
   ]
  },
  {
   "cell_type": "markdown",
   "metadata": {},
   "source": [
    "## Let's have a look at a single example\n",
    "Here we perform the previously mentioned preprocessing steps. You will hear a random .wav sample of the test set and see how we aggregate the data and label.\n",
    "\n",
    "_Turn on your speakers!_"
   ]
  },
  {
   "cell_type": "code",
   "metadata": {
    "ExecuteTime": {
     "end_time": "2024-07-10T17:34:56.492678Z",
     "start_time": "2024-07-10T17:34:54.089281Z"
    }
   },
   "source": [
    "testsize = 100 # Number of loaded testing samples\n",
    "totalSliceLength = 10 # Length to stuff the signals to, given in seconds\n",
    "\n",
    "fs = 16000 # Sampling rate of the samples\n",
    "segmentLength = 1024 # Number of samples to use per segment\n",
    "\n",
    "sliceLength = int(totalSliceLength * fs / segmentLength)*segmentLength\n",
    "\n",
    "rand_idx = random.randrange(0, testsize)\n",
    "fs, test_sound_data = wavfile.read(DataSetPath+testdata[rand_idx]['audio_file_path'])\n",
    "_x_test = test_sound_data.copy()\n",
    "_x_test.resize(sliceLength)\n",
    "_x_test = _x_test.reshape((-1,int(segmentLength)))\n",
    "_x_test.astype(np.float32)\n",
    "label = testdata[rand_idx]['is_hotword']\n",
    "\n",
    "#Play the .wav file\n",
    "wave_obj = sa.WaveObject.from_wave_file(DataSetPath+testdata[rand_idx]['audio_file_path'])\n",
    "play_obj = wave_obj.play()\n",
    "play_obj.wait_done()\n",
    "\n",
    "print('Data: ', _x_test) #Notice the zero stuffing\n",
    "print('Label: ', label)"
   ],
   "outputs": [
    {
     "name": "stdout",
     "output_type": "stream",
     "text": [
      "Data:  [[  4  12  25 ...  69  65  59]\n",
      " [ 63  65  70 ... -24 -29 -38]\n",
      " [-43 -41 -40 ...  40  36  32]\n",
      " ...\n",
      " [  0   0   0 ...   0   0   0]\n",
      " [  0   0   0 ...   0   0   0]\n",
      " [  0   0   0 ...   0   0   0]]\n",
      "Label:  1\n"
     ]
    }
   ],
   "execution_count": 8
  },
  {
   "cell_type": "markdown",
   "metadata": {},
   "source": [
    "Now we wrap it in a helper function and perform it on a subspace of the data"
   ]
  },
  {
   "cell_type": "code",
   "metadata": {
    "ExecuteTime": {
     "end_time": "2024-07-10T17:34:59.227725Z",
     "start_time": "2024-07-10T17:34:59.221208Z"
    }
   },
   "source": [
    "def load_data():\n",
    "    x_train_list = []\n",
    "    y_train_list = []\n",
    "\n",
    "    x_test_list = []\n",
    "    y_test_list = []\n",
    "\n",
    "    totalSliceLength = 10 # Length to stuff the signals to, given in seconds\n",
    "\n",
    "    trainsize = 1000 # Number of loaded training samples\n",
    "    testsize = 100 # Number of loaded testing samples\n",
    "\n",
    "\n",
    "    fs = 16000 # Sampling rate of the samples\n",
    "    segmentLength = 1024 # Number of samples to use per segment\n",
    "\n",
    "    sliceLength = int(totalSliceLength * fs / segmentLength)*segmentLength\n",
    "\n",
    "    for i in tqdm(range(trainsize)): \n",
    "        fs, train_sound_data = wavfile.read(DataSetPath+traindata[i]['audio_file_path']) # Read wavfile to extract amplitudes\n",
    "\n",
    "        _x_train = train_sound_data.copy() # Get a mutable copy of the wavfile\n",
    "        _x_train.resize(sliceLength) # Zero stuff the single to a length of sliceLength\n",
    "        _x_train = _x_train.reshape(-1,int(segmentLength)) # Split slice into Segments with 0 overlap\n",
    "        x_train_list.append(_x_train.astype(np.float32)) # Add segmented slice to training sample list, cast to float so librosa doesn't complain\n",
    "        y_train_list.append(traindata[i]['is_hotword']) # Read label \n",
    "\n",
    "    for i in tqdm(range(testsize)):\n",
    "        fs, test_sound_data = wavfile.read(DataSetPath+testdata[i]['audio_file_path'])\n",
    "        _x_test = test_sound_data.copy()\n",
    "        _x_test.resize(sliceLength)\n",
    "        _x_test = _x_test.reshape((-1,int(segmentLength)))\n",
    "        x_test_list.append(_x_test.astype(np.float32))\n",
    "        y_test_list.append(testdata[i]['is_hotword'])\n",
    "\n",
    "    x_train = tf.convert_to_tensor(np.asarray(x_train_list))\n",
    "    y_train = tf.keras.utils.to_categorical(np.asarray(y_train_list), num_classes=2)\n",
    "\n",
    "    x_test = tf.convert_to_tensor(np.asarray(x_test_list))\n",
    "    y_test = tf.keras.utils.to_categorical(np.asarray(y_test_list), num_classes=2)\n",
    "\n",
    "    return x_train, y_train, x_test, y_test"
   ],
   "outputs": [],
   "execution_count": 9
  },
  {
   "cell_type": "markdown",
   "metadata": {},
   "source": [
    "## MFCC feature extraction\n",
    "The state-of-the art for the convolutional approach in speech recognition is structured around MFCC features, which is a non-linear mapping of the frequency spectrum to considerably fewer features. It is an effective feature extractor for audio classification.\n",
    "It converts conventional frequency to Mel scale, which is a logarithmic transformation that takes into account human perception at different frequencies.\n",
    "As MFCC has proven to be a very good feature for such audio tasks, there is an integrated function for it in TensorFlow, which we'll be using here. If you'd like more details, visit the [TensorFlow Documentation](https://www.tensorflow.org/api_docs/python/tf/signal/linear_to_mel_weight_matrix). "
   ]
  },
  {
   "cell_type": "code",
   "metadata": {
    "ExecuteTime": {
     "end_time": "2024-07-10T17:35:00.801238Z",
     "start_time": "2024-07-10T17:35:00.797738Z"
    }
   },
   "source": [
    "def compute_mfccs(tensor):\n",
    "    sample_rate = 16000.0\n",
    "    lower_edge_hertz, upper_edge_hertz, num_mel_bins = 80.0, 7600.0, 80\n",
    "    frame_length = 1024\n",
    "    num_mfcc = 13\n",
    "\n",
    "    stfts = tf.signal.stft(tensor, frame_length=frame_length, frame_step=frame_length, fft_length=frame_length)\n",
    "    spectrograms = tf.abs(stfts)\n",
    "    spectrograms = tf.reshape(spectrograms, (spectrograms.shape[0],spectrograms.shape[1],-1))\n",
    "    num_spectrogram_bins = stfts.shape[-1]\n",
    "    linear_to_mel_weight_matrix = tf.signal.linear_to_mel_weight_matrix(\n",
    "      num_mel_bins, num_spectrogram_bins, sample_rate, lower_edge_hertz,\n",
    "      upper_edge_hertz)\n",
    "    mel_spectrograms = tf.tensordot(spectrograms, linear_to_mel_weight_matrix, 1)\n",
    "    log_mel_spectrograms = tf.math.log(mel_spectrograms + 1e-6)\n",
    "    mfccs = tf.signal.mfccs_from_log_mel_spectrograms(log_mel_spectrograms)[..., :num_mfcc]\n",
    "    return tf.reshape(mfccs, (mfccs.shape[0],mfccs.shape[1],mfccs.shape[2],-1))"
   ],
   "outputs": [],
   "execution_count": 10
  },
  {
   "cell_type": "markdown",
   "metadata": {},
   "source": [
    "Here we simply load the data with the previously explained preprocessing."
   ]
  },
  {
   "cell_type": "code",
   "metadata": {
    "ExecuteTime": {
     "end_time": "2024-07-10T17:35:10.577341Z",
     "start_time": "2024-07-10T17:35:02.664572Z"
    }
   },
   "source": [
    "x_train, y_train, x_test, y_test = load_data()\n",
    "\n",
    "x_train_mfcc = compute_mfccs(x_train)\n",
    "x_test_mfcc = compute_mfccs(x_test)\n",
    "\n",
    "print('Training Data Shape: ', x_train_mfcc.shape)\n",
    "print('Testing Data Shape: ', x_test_mfcc.shape)\n"
   ],
   "outputs": [
    {
     "name": "stderr",
     "output_type": "stream",
     "text": [
      "100%|██████████| 1000/1000 [00:00<00:00, 8068.03it/s]\n",
      "100%|██████████| 100/100 [00:00<00:00, 7572.72it/s]\n"
     ]
    },
    {
     "name": "stdout",
     "output_type": "stream",
     "text": [
      "Training Data Shape:  (1000, 156, 13, 1)\n",
      "Testing Data Shape:  (100, 156, 13, 1)\n"
     ]
    }
   ],
   "execution_count": 11
  },
  {
   "cell_type": "markdown",
   "metadata": {},
   "source": [
    "Let's visualize an MFCC \"frame\":"
   ]
  },
  {
   "cell_type": "code",
   "metadata": {
    "ExecuteTime": {
     "end_time": "2024-07-10T17:35:11.050836Z",
     "start_time": "2024-07-10T17:35:10.578595Z"
    }
   },
   "source": [
    "import matplotlib\n",
    "import matplotlib.pyplot as plt\n",
    "matplotlib.rcParams['figure.figsize'] = (10,10)\n",
    "\n",
    "mfcc_data=x_test_mfcc[rand_idx,:,:,0].numpy()\n",
    "fig, ax = plt.subplots()\n",
    "ax.imshow(mfcc_data)\n",
    "ax.set_xlabel(\"MFCC Coefficients\")\n",
    "ax.set_ylabel(\"Time Segments\")\n",
    "plt.show()"
   ],
   "outputs": [
    {
     "data": {
      "text/plain": [
       "<Figure size 1000x1000 with 1 Axes>"
      ],
      "image/png": "[encoded data removed]"
     },
     "metadata": {},
     "output_type": "display_data"
    }
   ],
   "execution_count": 12
  },
  {
   "cell_type": "markdown",
   "metadata": {},
   "source": [
    "Here we define the hyperparameters for the CNN training and apply a scaling to the MFCC. "
   ]
  },
  {
   "cell_type": "code",
   "metadata": {
    "ExecuteTime": {
     "end_time": "2024-07-10T17:35:11.089550Z",
     "start_time": "2024-07-10T17:35:11.052836Z"
    }
   },
   "source": [
    "batchSize = 10\n",
    "epochs = 20\n",
    "lr = 0.001\n",
    "\n",
    "train_set = (x_train_mfcc/512 + 0.5)\n",
    "train_labels = y_train\n",
    "\n",
    "test_set = (x_test_mfcc/512 + 0.5)\n",
    "test_labels = y_test"
   ],
   "outputs": [],
   "execution_count": 13
  },
  {
   "cell_type": "markdown",
   "metadata": {},
   "source": [
    "## CNN architecture\n",
    "We are using a CNN to architecture to fuse information over multiple channels efficiently. Such an architecture has proven to be very effective in such a problem setting."
   ]
  },
  {
   "cell_type": "code",
   "metadata": {
    "scrolled": false,
    "ExecuteTime": {
     "end_time": "2024-07-10T17:35:11.185133Z",
     "start_time": "2024-07-10T17:35:11.095799Z"
    }
   },
   "source": [
    "model = tf.keras.models.Sequential()\n",
    "\n",
    "input_shape = (train_set.shape[1],train_set.shape[2],train_set.shape[3])\n",
    "model.add(tf.keras.layers.InputLayer(input_shape=input_shape))\n",
    "model.add(tf.keras.layers.Conv2D(filters=3,kernel_size=(3,3),padding=\"same\", activation='relu', input_shape=input_shape))\n",
    "model.add(tf.keras.layers.BatchNormalization())\n",
    "\n",
    "model.add(tf.keras.layers.Conv2D(filters=16,kernel_size=(3,3),strides=(2,2),padding='same', activation='relu'))\n",
    "model.add(tf.keras.layers.BatchNormalization())\n",
    "\n",
    "model.add(tf.keras.layers.MaxPool2D((2,2)))\n",
    "\n",
    "model.add(tf.keras.layers.Conv2D(filters=32,kernel_size=(3,3),strides=(2,2),padding='same', activation='relu'))\n",
    "model.add(tf.keras.layers.BatchNormalization())\n",
    "\n",
    "model.add(tf.keras.layers.MaxPool2D((2,2)))\n",
    "\n",
    "model.add(tf.keras.layers.Conv2D(filters=48,kernel_size=(3,3),padding='same',strides=(2,2), activation='relu'))\n",
    "model.add(tf.keras.layers.BatchNormalization())\n",
    "\n",
    "model.add(tf.keras.layers.GlobalAveragePooling2D())\n",
    "\n",
    "model.add(tf.keras.layers.Flatten())\n",
    "\n",
    "model.add(tf.keras.layers.Dense(8, activation='relu'))\n",
    "\n",
    "model.add(tf.keras.layers.Dense(2, activation='softmax'))\n",
    "\n",
    "model.summary()"
   ],
   "outputs": [
    {
     "name": "stdout",
     "output_type": "stream",
     "text": [
      "Model: \"sequential_4\"\n",
      "_________________________________________________________________\n",
      " Layer (type)                Output Shape              Param #   \n",
      "=================================================================\n",
      " conv2d_2 (Conv2D)           (None, 156, 13, 3)        30        \n",
      "                                                                 \n",
      " batch_normalization (Batch  (None, 156, 13, 3)        12        \n",
      " Normalization)                                                  \n",
      "                                                                 \n",
      " conv2d_3 (Conv2D)           (None, 78, 7, 16)         448       \n",
      "                                                                 \n",
      " batch_normalization_1 (Bat  (None, 78, 7, 16)         64        \n",
      " chNormalization)                                                \n",
      "                                                                 \n",
      " max_pooling2d (MaxPooling2  (None, 39, 3, 16)         0         \n",
      " D)                                                              \n",
      "                                                                 \n",
      " conv2d_4 (Conv2D)           (None, 20, 2, 32)         4640      \n",
      "                                                                 \n",
      " batch_normalization_2 (Bat  (None, 20, 2, 32)         128       \n",
      " chNormalization)                                                \n",
      "                                                                 \n",
      " max_pooling2d_1 (MaxPoolin  (None, 10, 1, 32)         0         \n",
      " g2D)                                                            \n",
      "                                                                 \n",
      " conv2d_5 (Conv2D)           (None, 5, 1, 48)          13872     \n",
      "                                                                 \n",
      " batch_normalization_3 (Bat  (None, 5, 1, 48)          192       \n",
      " chNormalization)                                                \n",
      "                                                                 \n",
      " global_average_pooling2d (  (None, 48)                0         \n",
      " GlobalAveragePooling2D)                                         \n",
      "                                                                 \n",
      " flatten (Flatten)           (None, 48)                0         \n",
      "                                                                 \n",
      " dense_1 (Dense)             (None, 8)                 392       \n",
      "                                                                 \n",
      " dense_2 (Dense)             (None, 2)                 18        \n",
      "                                                                 \n",
      "=================================================================\n",
      "Total params: 19796 (77.33 KB)\n",
      "Trainable params: 19598 (76.55 KB)\n",
      "Non-trainable params: 198 (792.00 Byte)\n",
      "_________________________________________________________________\n"
     ]
    }
   ],
   "execution_count": 14
  },
  {
   "cell_type": "markdown",
   "metadata": {},
   "source": [
    "Here we compile the model by defining the loss functions, the optimizer, and the metrics to be used. We then train the model."
   ]
  },
  {
   "cell_type": "code",
   "metadata": {
    "ExecuteTime": {
     "end_time": "2024-07-10T17:35:27.934474Z",
     "start_time": "2024-07-10T17:35:11.384449Z"
    }
   },
   "source": [
    "model.compile(loss='categorical_crossentropy', optimizer=tf.keras.optimizers.Adam(learning_rate=lr), metrics=['accuracy'])\n",
    "model.fit(train_set, y_train, batchSize, epochs, validation_data=(test_set, y_test))"
   ],
   "outputs": [
    {
     "name": "stderr",
     "output_type": "stream",
     "text": [
      "WARNING:absl:At this time, the v2.11+ optimizer `tf.keras.optimizers.Adam` runs slowly on M1/M2 Macs, please use the legacy Keras optimizer instead, located at `tf.keras.optimizers.legacy.Adam`.\n",
      "WARNING:absl:There is a known slowdown when using v2.11+ Keras optimizers on M1/M2 Macs. Falling back to the legacy Keras optimizer, i.e., `tf.keras.optimizers.legacy.Adam`.\n"
     ]
    },
    {
     "name": "stdout",
     "output_type": "stream",
     "text": [
      "Epoch 1/20\n",
      "100/100 [==============================] - 1s 9ms/step - loss: 0.4103 - accuracy: 0.8770 - val_loss: 0.8125 - val_accuracy: 0.2000\n",
      "Epoch 2/20\n",
      "100/100 [==============================] - 1s 8ms/step - loss: 0.1889 - accuracy: 0.9400 - val_loss: 0.8771 - val_accuracy: 0.2000\n",
      "Epoch 3/20\n",
      "100/100 [==============================] - 1s 8ms/step - loss: 0.1368 - accuracy: 0.9520 - val_loss: 0.9329 - val_accuracy: 0.2000\n",
      "Epoch 4/20\n",
      "100/100 [==============================] - 1s 8ms/step - loss: 0.1145 - accuracy: 0.9570 - val_loss: 1.8662 - val_accuracy: 0.2000\n",
      "Epoch 5/20\n",
      "100/100 [==============================] - 1s 8ms/step - loss: 0.1008 - accuracy: 0.9630 - val_loss: 0.6525 - val_accuracy: 0.6300\n",
      "Epoch 6/20\n",
      "100/100 [==============================] - 1s 8ms/step - loss: 0.0804 - accuracy: 0.9710 - val_loss: 0.8169 - val_accuracy: 0.5700\n",
      "Epoch 7/20\n",
      "100/100 [==============================] - 1s 8ms/step - loss: 0.0677 - accuracy: 0.9710 - val_loss: 1.9782 - val_accuracy: 0.8000\n",
      "Epoch 8/20\n",
      "100/100 [==============================] - 1s 8ms/step - loss: 0.0673 - accuracy: 0.9710 - val_loss: 0.7628 - val_accuracy: 0.8000\n",
      "Epoch 9/20\n",
      "100/100 [==============================] - 1s 8ms/step - loss: 0.0601 - accuracy: 0.9710 - val_loss: 1.2220 - val_accuracy: 0.8000\n",
      "Epoch 10/20\n",
      "100/100 [==============================] - 1s 8ms/step - loss: 0.0582 - accuracy: 0.9790 - val_loss: 1.0260 - val_accuracy: 0.4500\n",
      "Epoch 11/20\n",
      "100/100 [==============================] - 1s 8ms/step - loss: 0.0513 - accuracy: 0.9820 - val_loss: 0.2638 - val_accuracy: 0.8900\n",
      "Epoch 12/20\n",
      "100/100 [==============================] - 1s 8ms/step - loss: 0.0517 - accuracy: 0.9830 - val_loss: 0.4442 - val_accuracy: 0.7700\n",
      "Epoch 13/20\n",
      "100/100 [==============================] - 1s 8ms/step - loss: 0.0348 - accuracy: 0.9910 - val_loss: 0.8588 - val_accuracy: 0.8000\n",
      "Epoch 14/20\n",
      "100/100 [==============================] - 1s 8ms/step - loss: 0.0259 - accuracy: 0.9910 - val_loss: 2.1104 - val_accuracy: 0.8000\n",
      "Epoch 15/20\n",
      "100/100 [==============================] - 1s 8ms/step - loss: 0.0417 - accuracy: 0.9830 - val_loss: 11.5055 - val_accuracy: 0.8000\n",
      "Epoch 16/20\n",
      "100/100 [==============================] - 1s 8ms/step - loss: 0.0532 - accuracy: 0.9780 - val_loss: 0.5308 - val_accuracy: 0.8200\n",
      "Epoch 17/20\n",
      "100/100 [==============================] - 1s 8ms/step - loss: 0.0356 - accuracy: 0.9880 - val_loss: 0.1065 - val_accuracy: 0.9500\n",
      "Epoch 18/20\n",
      "100/100 [==============================] - 1s 8ms/step - loss: 0.0319 - accuracy: 0.9850 - val_loss: 0.1200 - val_accuracy: 0.9300\n",
      "Epoch 19/20\n",
      "100/100 [==============================] - 1s 8ms/step - loss: 0.0337 - accuracy: 0.9880 - val_loss: 0.1537 - val_accuracy: 0.9100\n",
      "Epoch 20/20\n",
      "100/100 [==============================] - 1s 8ms/step - loss: 0.0317 - accuracy: 0.9900 - val_loss: 2.9608 - val_accuracy: 0.8000\n"
     ]
    },
    {
     "data": {
      "text/plain": [
       "<keras.src.callbacks.History at 0x34a162130>"
      ]
     },
     "execution_count": 15,
     "metadata": {},
     "output_type": "execute_result"
    }
   ],
   "execution_count": 15
  },
  {
   "cell_type": "markdown",
   "metadata": {},
   "source": [
    "We evaluate the trained model on the remaining data."
   ]
  },
  {
   "cell_type": "code",
   "metadata": {
    "scrolled": true,
    "ExecuteTime": {
     "end_time": "2024-07-10T17:35:27.989117Z",
     "start_time": "2024-07-10T17:35:27.936351Z"
    }
   },
   "source": [
    "score = model.evaluate(test_set, y_test, batch_size=batchSize)"
   ],
   "outputs": [
    {
     "name": "stdout",
     "output_type": "stream",
     "text": [
      "10/10 [==============================] - 0s 3ms/step - loss: 2.9608 - accuracy: 0.8000\n"
     ]
    }
   ],
   "execution_count": 16
  },
  {
   "cell_type": "markdown",
   "metadata": {},
   "source": [
    "We can now save the model and deploy it using CubeAI."
   ]
  },
  {
   "cell_type": "code",
   "metadata": {
    "ExecuteTime": {
     "end_time": "2024-07-10T17:35:28.009540Z",
     "start_time": "2024-07-10T17:35:27.989783Z"
    }
   },
   "source": [
    "model.save('MFCCmodel.h5')"
   ],
   "outputs": [
    {
     "name": "stderr",
     "output_type": "stream",
     "text": [
      "/opt/anaconda3/envs/arm_lab/lib/python3.8/site-packages/keras/src/engine/training.py:3000: UserWarning: You are saving your model as an HDF5 file via `model.save()`. This file format is considered legacy. We recommend using instead the native Keras format, e.g. `model.save('my_model.keras')`.\n",
      "  saving_api.save_model(\n"
     ]
    }
   ],
   "execution_count": 17
  },
  {
   "metadata": {
    "ExecuteTime": {
     "end_time": "2024-07-10T18:28:15.870747Z",
     "start_time": "2024-07-10T18:28:15.866315Z"
    }
   },
   "cell_type": "code",
   "source": [
    "layer_1 = (\n",
    "    240 * # kernel height\n",
    "    240 * # kernel width\n",
    "    3 * # number of input channels\n",
    "    16 # number of output channels\n",
    ")\n",
    "layer_2 = (\n",
    "    120 *\n",
    "    120 *\n",
    "    16 *\n",
    "    32\n",
    ")\n",
    "layer_3 = (\n",
    "    60 *\n",
    "    60 *\n",
    "    32 *\n",
    "    64\n",
    ")\n",
    "\n",
    "layer_1 + layer_2 + layer_3"
   ],
   "outputs": [
    {
     "data": {
      "text/plain": [
       "17510400"
      ]
     },
     "execution_count": 21,
     "metadata": {},
     "output_type": "execute_result"
    }
   ],
   "execution_count": 21
  },
  {
   "metadata": {
    "ExecuteTime": {
     "end_time": "2024-07-10T18:32:59.142342Z",
     "start_time": "2024-07-10T18:32:59.140373Z"
    }
   },
   "cell_type": "code",
   "source": [
    "def count_params(W, K, P, S):\n",
    "    return ((W - K + 2 * P) / S) + 1"
   ],
   "outputs": [],
   "execution_count": 22
  },
  {
   "metadata": {
    "ExecuteTime": {
     "end_time": "2024-07-10T18:35:21.896924Z",
     "start_time": "2024-07-10T18:35:21.893031Z"
    }
   },
   "cell_type": "code",
   "source": [
    "layer_1 = count_params(240, 3, 0, 1)\n",
    "layer_2 = count_params(120, 16, 0, 1)\n",
    "layer_3 = count_params(60, 62, 0, 1)\n",
    "layer_1 + layer_2 + layer_3"
   ],
   "outputs": [
    {
     "data": {
      "text/plain": [
       "342.0"
      ]
     },
     "execution_count": 24,
     "metadata": {},
     "output_type": "execute_result"
    }
   ],
   "execution_count": 24
  },
  {
   "metadata": {},
   "cell_type": "code",
   "outputs": [],
   "execution_count": null,
   "source": ""
  }
 ],
 "metadata": {
  "kernelspec": {
   "display_name": "Python 3.8.8 ('base')",
   "language": "python",
   "name": "python3"
  },
  "language_info": {
   "codemirror_mode": {
    "name": "ipython",
    "version": 3
   },
   "file_extension": ".py",
   "mimetype": "text/x-python",
   "name": "python",
   "nbconvert_exporter": "python",
   "pygments_lexer": "ipython3",
   "version": "3.8.8"
  },
  "vscode": {
   "interpreter": {
    "hash": "dfd424c2c15cb0090681715105541f27309d5d99a849746e237f3250e06a7f9d"
   }
  }
 },
 "nbformat": 4,
 "nbformat_minor": 2
}
